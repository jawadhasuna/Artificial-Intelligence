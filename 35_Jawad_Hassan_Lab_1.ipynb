{
  "nbformat": 4,
  "nbformat_minor": 0,
  "metadata": {
    "colab": {
      "provenance": [],
      "gpuType": "T4"
    },
    "kernelspec": {
      "name": "python3",
      "display_name": "Python 3"
    },
    "language_info": {
      "name": "python"
    }
  },
  "cells": [
    {
      "cell_type": "code",
      "source": [
        "\"\"\"\n",
        "name: jawad hassan\n",
        "section: bs ai\n",
        "roll no: 2230-0035\n",
        "teacher: sir zeeshan\n",
        "\"\"\"\n",
        "#in lab prac problems:\n",
        "a=5\n",
        "b='ali'\n",
        "c=0.5\n",
        "print(a)\n",
        "print(b)\n",
        "print(c)\n",
        "type(a)\n",
        "type(b)\n",
        "print(type(a))\n",
        "print(type(b))\n",
        "print('ali'+'baig')\n",
        "aa='ihsan'\n",
        "bb='talha'\n",
        "aa+bb\n",
        "cc=5\n",
        "dd=str(cc)\n",
        "print(cc)\n",
        "print(a<c)\n",
        "if a<c:\n",
        "  print(\"yes\")\n",
        "else:\n",
        "  print(\"no\")\n",
        "list=['orange','black','red']\n",
        "print(list)\n",
        "list1=('grey','lava','white')\n",
        "list[1]=\"blue\"\n",
        "print(list)\n",
        "print(list1[-2])\n",
        "print(list [0:3])\n",
        "if \"red\" in list:\n",
        "  print(\"tru\")\n",
        "else:\n",
        "  print(\"false\")\n",
        "for value in list:\n",
        "  print(value)\n",
        "for i in range(len(list1)):\n",
        "  print(list[i])\n"
      ],
      "metadata": {
        "colab": {
          "base_uri": "https://localhost:8080/"
        },
        "id": "txWU01tRBkIu",
        "outputId": "206dbf63-d501-4645-cb94-b9ede2244480"
      },
      "execution_count": 1,
      "outputs": [
        {
          "output_type": "stream",
          "name": "stdout",
          "text": [
            "5\n",
            "ali\n",
            "0.5\n",
            "<class 'int'>\n",
            "<class 'str'>\n",
            "alibaig\n",
            "5\n",
            "False\n",
            "no\n",
            "['orange', 'black', 'red']\n",
            "['orange', 'blue', 'red']\n",
            "lava\n",
            "['orange', 'blue', 'red']\n",
            "tru\n",
            "orange\n",
            "blue\n",
            "red\n",
            "orange\n",
            "blue\n",
            "red\n"
          ]
        }
      ]
    },
    {
      "cell_type": "code",
      "source": [
        "\n",
        "#task1: Write a Python program to find those numbers which are divisible by 7 and multiple of 5, between 1500 and 2700 (both included)\n",
        "i=1500\n",
        "print(\"number that are divisible by 7 and multiple of 5 are:\")\n",
        "while i<=2700:\n",
        "  if(i%7==0 and i%5==0):\n",
        "    print(i)\n",
        "  i=i+1"
      ],
      "metadata": {
        "id": "vfmsPeBBFQb4",
        "colab": {
          "base_uri": "https://localhost:8080/"
        },
        "outputId": "819f17a6-fbb1-429b-d12b-6ed709a1391a"
      },
      "execution_count": 2,
      "outputs": [
        {
          "output_type": "stream",
          "name": "stdout",
          "text": [
            "number that are divisible by 7 and multiple of 5 are:\n",
            "1505\n",
            "1540\n",
            "1575\n",
            "1610\n",
            "1645\n",
            "1680\n",
            "1715\n",
            "1750\n",
            "1785\n",
            "1820\n",
            "1855\n",
            "1890\n",
            "1925\n",
            "1960\n",
            "1995\n",
            "2030\n",
            "2065\n",
            "2100\n",
            "2135\n",
            "2170\n",
            "2205\n",
            "2240\n",
            "2275\n",
            "2310\n",
            "2345\n",
            "2380\n",
            "2415\n",
            "2450\n",
            "2485\n",
            "2520\n",
            "2555\n",
            "2590\n",
            "2625\n",
            "2660\n",
            "2695\n"
          ]
        }
      ]
    },
    {
      "cell_type": "code",
      "source": [
        "#task2:Write a Python program to find numbers between 100 and 400 (both included) where each digit of a number is an even number. The numbers obtained should be printed in a comma-separated sequence.\n",
        "ans=[]\n",
        "for n in range(100,401):\n",
        "  s=str(n)\n",
        "  if int(s[0])%2==0 and int(s[1])%2==0 and int(s[2])%2==0:\n",
        "    ans.append(s)\n",
        "print(','.join(ans))\n",
        "\n",
        "\n",
        "\n"
      ],
      "metadata": {
        "colab": {
          "base_uri": "https://localhost:8080/"
        },
        "id": "42Dy2PMzfS7M",
        "outputId": "d7ac67b7-2e12-4e9c-fbab-ced519e80910"
      },
      "execution_count": 3,
      "outputs": [
        {
          "output_type": "stream",
          "name": "stdout",
          "text": [
            "200,202,204,206,208,220,222,224,226,228,240,242,244,246,248,260,262,264,266,268,280,282,284,286,288,400\n"
          ]
        }
      ]
    },
    {
      "cell_type": "code",
      "source": [
        "#task3:Write a Python program to calculate the sum and average of n integer numbers(input from the user). Input 0 to finish\n",
        "sum=0\n",
        "k=0\n",
        "while True:\n",
        "  print(\"enter number:\")\n",
        "  numb=input()\n",
        "  alpha=int(numb)\n",
        "  if alpha==0:\n",
        "    print(\"sum=\",sum)\n",
        "    print(\"avg=\",sum/k)\n",
        "    print(\"finish\")\n",
        "    break\n",
        "  k+=1\n",
        "  sum+=alpha\n",
        "\n",
        "\n"
      ],
      "metadata": {
        "colab": {
          "base_uri": "https://localhost:8080/"
        },
        "id": "OYZNG2lslM66",
        "outputId": "849188b3-ffd1-4dd3-ac65-9ee10bbb7791"
      },
      "execution_count": 4,
      "outputs": [
        {
          "output_type": "stream",
          "name": "stdout",
          "text": [
            "enter number:\n",
            "1\n",
            "enter number:\n",
            "2\n",
            "enter number:\n",
            "3\n",
            "enter number:\n",
            "4\n",
            "enter number:\n",
            "5\n",
            "enter number:\n",
            "0\n",
            "sum= 15\n",
            "avg= 3.0\n",
            "finish\n"
          ]
        }
      ]
    },
    {
      "cell_type": "code",
      "source": [
        "#task4:A student will not be allowed to sit in exam if his/her attendance is less than75%. Take following input from user\n",
        "print(\"enter number of classes held:\")\n",
        "held=int(input())\n",
        "print(\"enter number of classes attend:\")\n",
        "attend=int(input())\n",
        "perc=(attend/held)*100\n",
        "print(\"percentage of class attended:\")\n",
        "print(perc)\n",
        "if perc<75:\n",
        "  print(\"student not allowed!!\")\n",
        "else:\n",
        "  print(\"student allowed!!\")\n"
      ],
      "metadata": {
        "colab": {
          "base_uri": "https://localhost:8080/"
        },
        "id": "h3fYsO--9LBs",
        "outputId": "c57d93db-1330-4473-b9b7-67ba50bdfabc"
      },
      "execution_count": 5,
      "outputs": [
        {
          "output_type": "stream",
          "name": "stdout",
          "text": [
            "enter number of classes held:\n",
            "120\n",
            "enter number of classes attend:\n",
            "88\n",
            "percentage of class attended:\n",
            "73.33333333333333\n",
            "student not allowed!!\n"
          ]
        }
      ]
    },
    {
      "cell_type": "code",
      "source": [
        "#task5:Write a Python program to perform the following tasks using lists:\n",
        "Numbers=[1,2,3,4,5]\n",
        "print (\"orignal list:\",Numbers)\n",
        "Numbers.append(6)\n",
        "Numbers.insert(0,0)\n",
        "print (\"modified list:\",Numbers)\n",
        "Numbers.remove(3)\n",
        "print (\"final list:\",Numbers)\n",
        "\n"
      ],
      "metadata": {
        "colab": {
          "base_uri": "https://localhost:8080/"
        },
        "id": "0-0JIKFeAcCf",
        "outputId": "03f48bf7-2201-4243-e25a-de16016a6b8f"
      },
      "execution_count": 6,
      "outputs": [
        {
          "output_type": "stream",
          "name": "stdout",
          "text": [
            "orignal list: [1, 2, 3, 4, 5]\n",
            "modified list: [0, 1, 2, 3, 4, 5, 6]\n",
            "final list: [0, 1, 2, 4, 5, 6]\n"
          ]
        }
      ]
    }
  ]
}