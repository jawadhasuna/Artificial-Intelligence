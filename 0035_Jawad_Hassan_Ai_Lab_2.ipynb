{
  "nbformat": 4,
  "nbformat_minor": 0,
  "metadata": {
    "colab": {
      "provenance": []
    },
    "kernelspec": {
      "name": "python3",
      "display_name": "Python 3"
    },
    "language_info": {
      "name": "python"
    }
  },
  "cells": [
    {
      "cell_type": "markdown",
      "source": [
        "# Name: Jawad Hassan\n",
        "# Section: Bs Ai\n",
        "# Roll No: 2230-0035\n",
        "# Teacher: Sir Zeeshan\n",
        "#Lab 2"
      ],
      "metadata": {
        "id": "Xbyhj63lLMTu"
      }
    },
    {
      "cell_type": "code",
      "execution_count": 9,
      "metadata": {
        "id": "Ew6VHsie_vpM",
        "colab": {
          "base_uri": "https://localhost:8080/"
        },
        "outputId": "b2954847-c80c-4fd7-e30b-c60bcf9a0f42"
      },
      "outputs": [
        {
          "output_type": "stream",
          "name": "stdout",
          "text": [
            "(1, 2, 3, 4, 5, 6, 7, 8, 9)\n",
            "('red', 'green', 'blue')\n",
            "<class 'tuple'>\n",
            "blue\n",
            "not available\n",
            "('red', 'green', 'blue')\n",
            "('pink', 'green', 'blue')\n",
            "('pink', 'green', 'blue', 'black')\n",
            "black\n",
            "pink\n",
            "['green', 'blue']\n",
            "blue\n",
            "black\n",
            "pink\n",
            "green\n",
            "blue\n",
            "black\n",
            "4\n",
            "pink\n",
            "green\n",
            "blue\n",
            "black\n",
            "pink\n",
            "green\n",
            "blue\n",
            "black\n",
            "again\n",
            "pink\n",
            "green\n",
            "blue\n",
            "black\n",
            "('pink', 'green', 'blue', 'black', 'orange', 'purple')\n",
            "('pink', 'green', 'blue', 'black', 'orange', 'purple', 'pink', 'green', 'blue', 'black', 'orange', 'purple')\n",
            "('pink', 'green', 'black', 'orange', 'purple', 'pink', 'green', 'blue', 'black', 'orange', 'purple')\n",
            "{'apple', 'banana', 'cherry'}\n"
          ]
        }
      ],
      "source": [
        "#activity tuple\n",
        "numb=tuple(range(1,10))\n",
        "print(numb)\n",
        "color=('red','green','blue')\n",
        "print(color)\n",
        "print(type(color))\n",
        "print(color[2])\n",
        "if 'yellow' in color:\n",
        "  print(\"available\")\n",
        "else:\n",
        "  print(\"not available\")\n",
        "print(color)\n",
        "color=list(color)\n",
        "color[0]='pink'\n",
        "color=tuple(color)\n",
        "print(color)\n",
        "color=list(color)\n",
        "color.append('black')\n",
        "color=tuple(color)\n",
        "print(color)\n",
        "(c1,c2,c3,c4)=color\n",
        "print(c4)\n",
        "(cc,*c,k)=color\n",
        "print(cc)\n",
        "print(c)\n",
        "print(c[1])\n",
        "print(k)\n",
        "for i in color:\n",
        "  print(i)\n",
        "print(len(color))\n",
        "for j in range(len(color)):\n",
        "  print(color[j])\n",
        "l=0\n",
        "while l < len(color):\n",
        "  print(color[l])\n",
        "  l+=1\n",
        "n=0\n",
        "print('again')\n",
        "while n in range(len(color)):\n",
        "  print(color[n])\n",
        "  n+=1\n",
        "color_new=('orange','purple')\n",
        "color=color+color_new\n",
        "print(color)\n",
        "color=color*2\n",
        "print(color)\n",
        "color=list(color)\n",
        "color.remove('blue')\n",
        "color=tuple(color)\n",
        "print(color)"
      ]
    },
    {
      "cell_type": "code",
      "source": [
        "#activity sets\n",
        "aset={'apple','banana','cherry'}\n",
        "print(aset)\n",
        "for val in aset:\n",
        "  print(val)\n",
        "print('banana'in aset)\n",
        "aset.add('orange')\n",
        "print(aset)\n",
        "bset={'kiwi','strawberry'}\n",
        "aset.update(bset)\n",
        "print(aset)\n",
        "clist=['lemon','melon']\n",
        "aset.update(clist)\n",
        "print(aset)\n",
        "aset.discard('watermelon')\n",
        "print(aset)\n",
        "aset.remove('orange')\n",
        "print(aset)\n"
      ],
      "metadata": {
        "colab": {
          "base_uri": "https://localhost:8080/"
        },
        "id": "z0rjnPk20je2",
        "outputId": "3505dd23-fadc-41a8-d064-73da6e34cb1e"
      },
      "execution_count": 26,
      "outputs": [
        {
          "output_type": "stream",
          "name": "stdout",
          "text": [
            "{'apple', 'banana', 'cherry'}\n",
            "apple\n",
            "banana\n",
            "cherry\n",
            "True\n",
            "{'orange', 'apple', 'banana', 'cherry'}\n",
            "{'orange', 'strawberry', 'banana', 'apple', 'kiwi', 'cherry'}\n",
            "{'orange', 'strawberry', 'banana', 'melon', 'apple', 'kiwi', 'cherry', 'lemon'}\n",
            "{'orange', 'strawberry', 'banana', 'melon', 'apple', 'kiwi', 'cherry', 'lemon'}\n",
            "{'strawberry', 'banana', 'melon', 'apple', 'kiwi', 'cherry', 'lemon'}\n"
          ]
        }
      ]
    },
    {
      "cell_type": "code",
      "source": [
        "#activity dictionary\n",
        "thisdict={\n",
        "    'brand':'ford',\n",
        "    'model':'mustang',\n",
        "    'year':2010,\n",
        "    'year':2020\n",
        "}\n",
        "print(thisdict)\n",
        "print(thisdict['model'])\n",
        "print(thisdict.keys())\n",
        "ll=thisdict.get('brand')\n",
        "print(ll,type(ll))\n",
        "thisdict.update({'color':'red'})\n",
        "thisdict.update({'year':'1000'})\n",
        "print(thisdict)\n",
        "thisdict['type']='hybrid'\n",
        "thisdict['model']='civic'\n",
        "print(thisdict)\n",
        "for items in thisdict:\n",
        "  print(thisdict[items])\n",
        "thisdict.pop('model')\n",
        "print(thisdict)\n",
        "print(thisdict.popitem())\n",
        "print(thisdict)\n",
        "del thisdict['brand']\n",
        "print(thisdict)\n",
        "thisdict.clear()\n",
        "print(thisdict)"
      ],
      "metadata": {
        "colab": {
          "base_uri": "https://localhost:8080/"
        },
        "id": "fe0XQshR3U5c",
        "outputId": "ade0ff34-4a63-42c3-b876-d9ad1d8eea2a"
      },
      "execution_count": 55,
      "outputs": [
        {
          "output_type": "stream",
          "name": "stdout",
          "text": [
            "{'brand': 'ford', 'model': 'mustang', 'year': 2020}\n",
            "mustang\n",
            "dict_keys(['brand', 'model', 'year'])\n",
            "ford <class 'str'>\n",
            "{'brand': 'ford', 'model': 'mustang', 'year': '1000', 'color': 'red'}\n",
            "{'brand': 'ford', 'model': 'civic', 'year': '1000', 'color': 'red', 'type': 'hybrid'}\n",
            "ford\n",
            "civic\n",
            "1000\n",
            "red\n",
            "hybrid\n",
            "{'brand': 'ford', 'year': '1000', 'color': 'red', 'type': 'hybrid'}\n",
            "('type', 'hybrid')\n",
            "{'brand': 'ford', 'year': '1000', 'color': 'red'}\n",
            "{'year': '1000', 'color': 'red'}\n",
            "{}\n"
          ]
        }
      ]
    },
    {
      "cell_type": "code",
      "source": [
        "#task1\n",
        "square ={\n",
        "    '1':1\n",
        "}\n",
        "n=2\n",
        "while n<=10:\n",
        "  square.update({str(n):n**2})\n",
        "  n+=1\n",
        "print(square)"
      ],
      "metadata": {
        "colab": {
          "base_uri": "https://localhost:8080/"
        },
        "id": "VeQ6XzKOk5LF",
        "outputId": "2938e9b3-6c81-4d2e-8890-28fe819ad729"
      },
      "execution_count": 64,
      "outputs": [
        {
          "output_type": "stream",
          "name": "stdout",
          "text": [
            "{'1': 1, '2': 4, '3': 9, '4': 16, '5': 25, '6': 36, '7': 49, '8': 64, '9': 81, '10': 100}\n"
          ]
        }
      ]
    },
    {
      "cell_type": "code",
      "source": [
        "#task2\n",
        "book_inventory=[]\n",
        "def add_book():\n",
        "  title=input('title:')\n",
        "  author=input('author:')\n",
        "  year=input('year:')\n",
        "  isbn=input('isbn:')\n",
        "  quantity=int(input('quantity:'))\n",
        "  tup=(title,author,year,isbn,quantity)\n",
        "  book_inventory.append(tup)\n",
        "  print('added book')\n",
        "found=False\n",
        "def search_book():\n",
        "  isb=input('enter isbn:')\n",
        "  for numb in range(len(book_inventory)):\n",
        "    if book_inventory[numb][3]==isb:\n",
        "      print('book found:\\n',book_inventory[numb])\n",
        "      found=True\n",
        "if not found:\n",
        "  print('book not in inventory')\n",
        "def display_invent():\n",
        "  print('display:\\n')\n",
        "  for numb in range(len(book_inventory)):\n",
        "    print(book_inventory[numb],'\\n')\n",
        "def sell_book():\n",
        "   isbnn=input('isbn:')\n",
        "   quant=int(input('quantiy:'))\n",
        "   for numb in range(len(book_inventory)):\n",
        "    if isbnn==book_inventory[numb][3]:\n",
        "      if quant>book_inventory[numb][4]:\n",
        "        print('insufficent stock')\n",
        "      else:\n",
        "        book_inventorynumb=list(book_inventory[numb])\n",
        "        book_inventorynumb[4]-=quant\n",
        "        book_inventory[numb]=tuple(book_inventorynumb)\n",
        "        print('book sold')\n",
        "\n",
        "\n",
        "\n",
        "add_book()\n",
        "add_book()\n",
        "search_book()\n",
        "display_invent()\n",
        "sell_book()\n",
        "display_invent()\n"
      ],
      "metadata": {
        "colab": {
          "base_uri": "https://localhost:8080/"
        },
        "id": "xzJpVKgjmd9f",
        "outputId": "adbfa209-2282-4416-e53c-067bdc1db0d8"
      },
      "execution_count": 72,
      "outputs": [
        {
          "output_type": "stream",
          "name": "stdout",
          "text": [
            "book not in inventory\n",
            "title:fault in stars\n",
            "author:ali\n",
            "year:2001\n",
            "isbn:1\n",
            "quantity:22\n",
            "added book\n",
            "title:running man\n",
            "author:jawad\n",
            "year:2003\n",
            "isbn:2\n",
            "quantity:33\n",
            "added book\n",
            "enter isbn:1\n",
            "book found:\n",
            " ('fault in stars', 'ali', '2001', '1', 22)\n",
            "display:\n",
            "\n",
            "('fault in stars', 'ali', '2001', '1', 22) \n",
            "\n",
            "('running man', 'jawad', '2003', '2', 33) \n",
            "\n",
            "isbn:2\n",
            "quantiy:30\n",
            "book sold\n",
            "display:\n",
            "\n",
            "('fault in stars', 'ali', '2001', '1', 22) \n",
            "\n",
            "('running man', 'jawad', '2003', '2', 3) \n",
            "\n"
          ]
        }
      ]
    },
    {
      "cell_type": "code",
      "source": [
        "#task3\n",
        "graphdict={\n",
        "    '5':(3,7),\n",
        "    '3':(2,4),\n",
        "    '7':(8),\n",
        "    '2':(),\n",
        "    '4':(8),\n",
        "    '8':()\n",
        "}\n",
        "print(graphdict)\n",
        "print(graphdict['5'])"
      ],
      "metadata": {
        "colab": {
          "base_uri": "https://localhost:8080/"
        },
        "id": "wAZ5Sj9ijepi",
        "outputId": "52c2adf7-d28a-4013-8907-794896c652b7"
      },
      "execution_count": 48,
      "outputs": [
        {
          "output_type": "stream",
          "name": "stdout",
          "text": [
            "{'5': (3, 7), '3': (2, 4), '7': 8, '2': (), '4': 8, '8': ()}\n",
            "(3, 7)\n"
          ]
        }
      ]
    },
    {
      "cell_type": "code",
      "source": [
        "#task4\n",
        "bigraph={\n",
        "    'A':[('B',6),('E',1),('C',9)],\n",
        "    'B':[('A',6),('E',4),('D',3)],\n",
        "    'C':[('A',9),('F',2),('G',3)],\n",
        "    'D':[('B',3),('E',5),('F',7)],\n",
        "    'E':[('A',1),('B',4),('D',5),('F',6)],\n",
        "    'F':[('C',2),('E',6),('D',7)],\n",
        "    'G':[('C',3)]\n",
        "\n",
        "}\n",
        "print(bigraph['A'][0][1])\n",
        "print(bigraph['E'])\n",
        "print(bigraph['E'][2][1])"
      ],
      "metadata": {
        "colab": {
          "base_uri": "https://localhost:8080/"
        },
        "id": "n8QvbqgXkpdT",
        "outputId": "57002f74-0e69-4dba-ef3f-570c732bebec"
      },
      "execution_count": 7,
      "outputs": [
        {
          "output_type": "stream",
          "name": "stdout",
          "text": [
            "6\n",
            "[('A', 1), ('B', 4), ('D', 5), ('F', 6)]\n",
            "5\n"
          ]
        }
      ]
    }
  ]
}